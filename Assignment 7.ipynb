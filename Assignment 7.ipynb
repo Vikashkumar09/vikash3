{
 "cells": [
  {
   "cell_type": "code",
   "execution_count": null,
   "id": "51bdb885",
   "metadata": {},
   "outputs": [],
   "source": [
    "# Assignment 7"
   ]
  },
  {
   "cell_type": "code",
   "execution_count": null,
   "id": "5dcffbc8",
   "metadata": {},
   "outputs": [],
   "source": [
    "1. Write a Python Program to find sum of array?"
   ]
  },
  {
   "cell_type": "code",
   "execution_count": 2,
   "id": "09fd84bf",
   "metadata": {},
   "outputs": [
    {
     "name": "stdout",
     "output_type": "stream",
     "text": [
      "sum of the array is  34\n"
     ]
    }
   ],
   "source": [
    "def _sum(arr):\n",
    "    sum = 0\n",
    "    for i in arr:\n",
    "        sum = sum +i\n",
    "    return(sum)\n",
    "\n",
    "arr = []\n",
    "arr = [12, 3, 4, 15]\n",
    "n = len(arr)\n",
    "ans = _sum(arr)\n",
    "print('sum of the array is ', ans)"
   ]
  },
  {
   "cell_type": "code",
   "execution_count": 3,
   "id": "8bdc6654",
   "metadata": {},
   "outputs": [
    {
     "name": "stdout",
     "output_type": "stream",
     "text": [
      "sum of the array is  34\n"
     ]
    }
   ],
   "source": [
    "arr = []\n",
    "arr = [12, 3, 4, 15]\n",
    "ans = sum(arr)\n",
    "print('sum of the array is ',ans)"
   ]
  },
  {
   "cell_type": "code",
   "execution_count": null,
   "id": "1ca80c19",
   "metadata": {},
   "outputs": [],
   "source": [
    "2.Write a Python Program to find largest element in an array?"
   ]
  },
  {
   "cell_type": "code",
   "execution_count": 6,
   "id": "9645b8f0",
   "metadata": {},
   "outputs": [
    {
     "name": "stdout",
     "output_type": "stream",
     "text": [
      "largest number in the array: 80\n"
     ]
    }
   ],
   "source": [
    "from array import *\n",
    "def largest(arr,n):\n",
    "    max = arr[0]\n",
    "    for i in range(1,n):\n",
    "        if arr[i]>max:\n",
    "            max = arr[i]\n",
    "    return max\n",
    "arr = array(\"i\", [20,55,44,78,80])\n",
    "n = len(arr)\n",
    "print(\"largest number in the array:\",largest(arr,n))"
   ]
  },
  {
   "cell_type": "code",
   "execution_count": null,
   "id": "334284b4",
   "metadata": {},
   "outputs": [],
   "source": [
    "3.Write a Python Program for array rotation?"
   ]
  },
  {
   "cell_type": "code",
   "execution_count": 34,
   "id": "2915f6a0",
   "metadata": {},
   "outputs": [
    {
     "name": "stdout",
     "output_type": "stream",
     "text": [
      "Array after left rotation is:  [3, 4, 5, 6, 7, 1, 2]\n"
     ]
    }
   ],
   "source": [
    "def rotateArray(arr, n, d):\n",
    "    temp = []\n",
    "    i = 0\n",
    "    while(i < d):\n",
    "        temp.append(arr[i])\n",
    "        i = i + 1\n",
    "    i = 0\n",
    "    while(d<n):\n",
    "        arr[i] = arr[d]\n",
    "        i = i + 1\n",
    "        d = d + 1\n",
    "    arr[ : ] = arr[ :i] + temp\n",
    "    return arr\n",
    "arr = [1, 2, 3, 4, 5, 6, 7]\n",
    "print(\"Array after left rotation is: \", end=' ')\n",
    "print(rotateArray(arr, len(arr) , 2))"
   ]
  },
  {
   "cell_type": "code",
   "execution_count": null,
   "id": "f6bd1ffe",
   "metadata": {},
   "outputs": [],
   "source": [
    "4.Write a Python Program to Split the array and add the first part to the end?"
   ]
  },
  {
   "cell_type": "code",
   "execution_count": 36,
   "id": "ffd1ce5b",
   "metadata": {},
   "outputs": [
    {
     "name": "stdout",
     "output_type": "stream",
     "text": [
      "5 6 52 36 12 10 "
     ]
    }
   ],
   "source": [
    "def splitArr(arr,n,k):\n",
    "    for i in range(0,k):\n",
    "        x = arr[0]\n",
    "        for j in range(0, n-1):\n",
    "            arr[j] = arr[j + 1]\n",
    "        arr[n-1] = x\n",
    "arr = [12,10,5,6,52,36]\n",
    "n = len(arr)\n",
    "position = 2\n",
    "splitArr(arr , n, position)\n",
    "for i in range(0 , n):\n",
    "    print(arr[i], end = ' ')"
   ]
  },
  {
   "cell_type": "code",
   "execution_count": null,
   "id": "ff005b2f",
   "metadata": {},
   "outputs": [],
   "source": [
    "5.\tWrite a Python Program to check if given array is Monotonic?"
   ]
  },
  {
   "cell_type": "code",
   "execution_count": 37,
   "id": "ff2487ac",
   "metadata": {},
   "outputs": [
    {
     "name": "stdout",
     "output_type": "stream",
     "text": [
      "True\n"
     ]
    }
   ],
   "source": [
    "def isMonotonic(A):\n",
    "    return(all(A[i] <= A[i + 1] for i in range(len(A) - 1)) or\n",
    "           all(A[i] >= A[i + 1] for i in range(len(A) - 1)))\n",
    "A = [6,5,4,4]\n",
    "print(isMonotonic(A))\n"
   ]
  }
 ],
 "metadata": {
  "kernelspec": {
   "display_name": "Python 3 (ipykernel)",
   "language": "python",
   "name": "python3"
  },
  "language_info": {
   "codemirror_mode": {
    "name": "ipython",
    "version": 3
   },
   "file_extension": ".py",
   "mimetype": "text/x-python",
   "name": "python",
   "nbconvert_exporter": "python",
   "pygments_lexer": "ipython3",
   "version": "3.9.7"
  }
 },
 "nbformat": 4,
 "nbformat_minor": 5
}
