{
 "cells": [
  {
   "cell_type": "code",
   "execution_count": null,
   "id": "01f1949c",
   "metadata": {},
   "outputs": [],
   "source": [
    "# Assignment 5"
   ]
  },
  {
   "cell_type": "code",
   "execution_count": null,
   "id": "6c36ae47",
   "metadata": {},
   "outputs": [],
   "source": [
    "1.\tWrite a Python Program to Find LCM?"
   ]
  },
  {
   "cell_type": "code",
   "execution_count": 9,
   "id": "f8e7e727",
   "metadata": {},
   "outputs": [
    {
     "name": "stdout",
     "output_type": "stream",
     "text": [
      "Enter first number:3\n",
      "Enter second number:4\n",
      "The L.C.M of 3 and 4 is 12\n"
     ]
    }
   ],
   "source": [
    "def calculate_lcm(x,y):\n",
    "    if x>y:\n",
    "        greater=x\n",
    "    else:\n",
    "        greater=y\n",
    "    while(True):\n",
    "        if((greater%x == 0) and (greater%y == 0)):\n",
    "            lcm = greater\n",
    "            break\n",
    "        greater += 1\n",
    "    return lcm\n",
    "num1 = int(input(\"Enter first number:\"))\n",
    "num2 = int(input(\"Enter second number:\"))\n",
    "print(\"The L.C.M of\",num1,\"and\",num2,\"is\",calculate_lcm(num1,num2))"
   ]
  },
  {
   "cell_type": "code",
   "execution_count": null,
   "id": "4432705a",
   "metadata": {},
   "outputs": [],
   "source": [
    "2.\tWrite a Python Program to Find HCF?"
   ]
  },
  {
   "cell_type": "code",
   "execution_count": 12,
   "id": "681542b1",
   "metadata": {},
   "outputs": [
    {
     "name": "stdout",
     "output_type": "stream",
     "text": [
      "enter first number: 8\n",
      "enter second number: 12\n",
      "The H.C.F of 8 and 12 is 4\n"
     ]
    }
   ],
   "source": [
    "def calculate_hcf(x,y):\n",
    "    if x>y:\n",
    "        smaller=y\n",
    "    else:\n",
    "        smaller=x\n",
    "    for i in range(1,smaller + 1):\n",
    "        if((x % i == 0) and (y % i == 0)):\n",
    "            hcf = i\n",
    "    return hcf\n",
    "num1 = int(input(\"enter first number: \"))\n",
    "num2 = int(input(\"enter second number: \"))\n",
    "print(\"The H.C.F of\",num1,\"and\",num2,\"is\",calculate_hcf(num1,num2))"
   ]
  },
  {
   "cell_type": "code",
   "execution_count": null,
   "id": "c6e820b6",
   "metadata": {},
   "outputs": [],
   "source": [
    "3.\tWrite a Python Program to Convert Decimal to Binary, Octal and Hexadecimal?"
   ]
  },
  {
   "cell_type": "code",
   "execution_count": 13,
   "id": "0fd4ce44",
   "metadata": {},
   "outputs": [
    {
     "name": "stdout",
     "output_type": "stream",
     "text": [
      "The decimal value of 344 is:\n",
      "0b101011000 in binary.\n",
      "0o530 in octal.\n",
      "0x158 in hexadecimal.\n"
     ]
    }
   ],
   "source": [
    "dec = 344\n",
    "\n",
    "print(\"The decimal value of\", dec, \"is:\")\n",
    "print(bin(dec), \"in binary.\")\n",
    "print(oct(dec), \"in octal.\")\n",
    "print(hex(dec), \"in hexadecimal.\")"
   ]
  },
  {
   "cell_type": "code",
   "execution_count": null,
   "id": "2c09705c",
   "metadata": {},
   "outputs": [],
   "source": [
    "4.\tWrite a Python Program To Find ASCII value of a character?"
   ]
  },
  {
   "cell_type": "code",
   "execution_count": 17,
   "id": "0f51f1cd",
   "metadata": {},
   "outputs": [
    {
     "name": "stdout",
     "output_type": "stream",
     "text": [
      "The ASCII value of ' g ' is 103\n"
     ]
    }
   ],
   "source": [
    "c = 'g'\n",
    "print(\"The ASCII value of ' \" + c + \" ' is\", ord(c))"
   ]
  },
  {
   "cell_type": "code",
   "execution_count": null,
   "id": "e50dea43",
   "metadata": {},
   "outputs": [],
   "source": [
    "5.\tWrite a Python Program to Make a Simple Calculator with 4 basic mathematical operations?"
   ]
  },
  {
   "cell_type": "code",
   "execution_count": 18,
   "id": "60f33e9c",
   "metadata": {},
   "outputs": [
    {
     "name": "stdout",
     "output_type": "stream",
     "text": [
      "please select the operation.\n",
      "a. Add\n",
      "b. Subtract\n",
      "c. Multiply\n",
      "d. Divide\n",
      "Please enter choice(a/b/c/d):d\n",
      "please enter the first number:1\n",
      "please enter the second number:2\n",
      "1 / 2 = 0.5\n"
     ]
    }
   ],
   "source": [
    "def add(P,Q):\n",
    "    return P + Q\n",
    "def subtract(P,Q):\n",
    "    return P - Q\n",
    "def multiply(P,Q):\n",
    "    return P * Q\n",
    "def divide(P,Q):\n",
    "    return P / Q\n",
    "print(\"please select the operation.\")\n",
    "print(\"a. Add\")\n",
    "print(\"b. Subtract\")\n",
    "print(\"c. Multiply\")\n",
    "print(\"d. Divide\")\n",
    "\n",
    "choice = input(\"Please enter choice(a/b/c/d):\")\n",
    "num_1 = int(input(\"please enter the first number:\"))\n",
    "num_2 = int(input(\"please enter the second number:\"))\n",
    "\n",
    "if choice == 'a':\n",
    "    print(num_1, \"+\", num_2,\"=\",add(num_1,num_2))\n",
    "elif choice == 'b':\n",
    "    print(num_1, \"-\", num_2,\"=\",subtract(num_1,num_2))\n",
    "    \n",
    "elif choice == 'c':\n",
    "    print(num_1, \"*\", num_2,\"=\",multiply(num_1,num_2))\n",
    "elif choice == 'd':\n",
    "    print(num_1,\"/\", num_2,\"=\",divide(num_1,num_2))\n",
    "else:\n",
    "    print(\"This is an invalid input\")\n"
   ]
  },
  {
   "cell_type": "code",
   "execution_count": null,
   "id": "82f85f72",
   "metadata": {},
   "outputs": [],
   "source": []
  }
 ],
 "metadata": {
  "kernelspec": {
   "display_name": "Python 3 (ipykernel)",
   "language": "python",
   "name": "python3"
  },
  "language_info": {
   "codemirror_mode": {
    "name": "ipython",
    "version": 3
   },
   "file_extension": ".py",
   "mimetype": "text/x-python",
   "name": "python",
   "nbconvert_exporter": "python",
   "pygments_lexer": "ipython3",
   "version": "3.9.7"
  }
 },
 "nbformat": 4,
 "nbformat_minor": 5
}
