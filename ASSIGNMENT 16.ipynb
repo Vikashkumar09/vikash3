{
 "cells": [
  {
   "cell_type": "code",
   "execution_count": null,
   "id": "7174cbc4",
   "metadata": {},
   "outputs": [],
   "source": [
    "# ASSIGNMENT 16"
   ]
  },
  {
   "cell_type": "code",
   "execution_count": null,
   "id": "b8d7a2ce",
   "metadata": {},
   "outputs": [],
   "source": [
    "1. Write a function that stutters a word as if someone is struggling to read it. The first two letters are repeated twice with an ellipsis ... and space after each, and then the word is pronounced with a question mark ?."
   ]
  },
  {
   "cell_type": "code",
   "execution_count": 10,
   "id": "2d101e07",
   "metadata": {},
   "outputs": [
    {
     "name": "stdout",
     "output_type": "stream",
     "text": [
      "in... in... incredible home?\n"
     ]
    }
   ],
   "source": [
    "def stutter(word):\n",
    "    s = word[:2]\n",
    "    return (2 * (s + '... ')) + word + '?'\n",
    "\n",
    "\n",
    "print(stutter(\"incredible home\"))"
   ]
  },
  {
   "cell_type": "code",
   "execution_count": null,
   "id": "e041abe5",
   "metadata": {},
   "outputs": [],
   "source": [
    " 2. Create a function that takes an angle in radians and returns the corresponding angle in degrees rounded to one decimal place."
   ]
  },
  {
   "cell_type": "code",
   "execution_count": 11,
   "id": "d61d0c43",
   "metadata": {},
   "outputs": [
    {
     "name": "stdout",
     "output_type": "stream",
     "text": [
      "degree = 286.4791395439889\n"
     ]
    }
   ],
   "source": [
    "def Convert(radian):\n",
    "    pi = 3.14159\n",
    "    # Simply used the formula\n",
    "    degree = radian * (180/pi)\n",
    "    return degree\n",
    " \n",
    "# Driver Code\n",
    "radian = 5\n",
    "print(\"degree =\",(Convert(radian)))"
   ]
  },
  {
   "cell_type": "code",
   "execution_count": null,
   "id": "0fd55b2e",
   "metadata": {},
   "outputs": [],
   "source": [
    "3. In this challenge, establish if a given integer num is a Curzon number. If 1 plus 2 elevated to num is exactly divisible by 1 plus 2 multiplied by num, then num is a Curzon number."
   ]
  },
  {
   "cell_type": "code",
   "execution_count": 13,
   "id": "928b4ce8",
   "metadata": {},
   "outputs": [
    {
     "name": "stdout",
     "output_type": "stream",
     "text": [
      "Yes\n",
      "No\n"
     ]
    }
   ],
   "source": [
    "def checkIfCurzonNumber(N):\n",
    " \n",
    "    powerTerm, productTerm = 0, 0\n",
    " \n",
    "    # Find 2^N + 1\n",
    "    powerTerm = pow(2, N) + 1\n",
    " \n",
    "    # Find 2*N + 1\n",
    "    productTerm = 2 * N + 1\n",
    " \n",
    "    # Check for divisibility\n",
    "    if (powerTerm % productTerm == 0):\n",
    "        print(\"Yes\")\n",
    "    else:\n",
    "        print(\"No\")\n",
    " \n",
    "# Driver code\n",
    "if __name__ == '__main__':\n",
    "     \n",
    "    N = 5\n",
    "    checkIfCurzonNumber(N)\n",
    " \n",
    "    N = 10\n",
    "    checkIfCurzonNumber(N)"
   ]
  },
  {
   "cell_type": "code",
   "execution_count": null,
   "id": "57d0f5d3",
   "metadata": {},
   "outputs": [],
   "source": [
    " 4.Given the side length x find the area of a hexagon."
   ]
  },
  {
   "cell_type": "code",
   "execution_count": 14,
   "id": "8a7c1aa6",
   "metadata": {},
   "outputs": [
    {
     "name": "stdout",
     "output_type": "stream",
     "text": [
      "Area: 41.5692\n"
     ]
    }
   ],
   "source": [
    "import math\n",
    "  \n",
    "# Function for calculating \n",
    "# area of the hexagon.\n",
    "def hexagonArea(s):\n",
    "      \n",
    "    return ((3 * math.sqrt(3) * \n",
    "            (s * s)) / 2); \n",
    "      \n",
    "# Driver code     \n",
    "if __name__ == \"__main__\" : \n",
    "  \n",
    "    # length of a side. \n",
    "    s = 4\n",
    "  \n",
    "    print(\"Area:\",\"{0:.4f}\" . \n",
    "           format(hexagonArea(s)))"
   ]
  },
  {
   "cell_type": "code",
   "execution_count": null,
   "id": "a02f902e",
   "metadata": {},
   "outputs": [],
   "source": [
    "5. Create a function that returns a base-2 (binary) representation of a base-10 (decimal) string number. To convert is simple: ((2) means base-2 and (10) means base-10) 010101001(2) = 1 + 8 + 32 + 128.\n",
    "Going from right to left, the value of the most right bit is 1, now from that every bit to the left will be x2 the value, value of an 8 bit binary numbers are (256, 128, 64, 32, 16, 8, 4, 2, 1)."
   ]
  },
  {
   "cell_type": "code",
   "execution_count": 2,
   "id": "6272c0f1",
   "metadata": {},
   "outputs": [
    {
     "name": "stdout",
     "output_type": "stream",
     "text": [
      "0 1 1 0 0 0 "
     ]
    }
   ],
   "source": [
    "def DecimalToBinary(num):\n",
    "    if num >= 1:\n",
    "        DecimalToBinary(num//2)\n",
    "    print(num % 2, end = ' ')\n",
    "if __name__ == '__main__':\n",
    "    dec_val = 24\n",
    "    DecimalToBinary(dec_val)"
   ]
  }
 ],
 "metadata": {
  "kernelspec": {
   "display_name": "Python 3 (ipykernel)",
   "language": "python",
   "name": "python3"
  },
  "language_info": {
   "codemirror_mode": {
    "name": "ipython",
    "version": 3
   },
   "file_extension": ".py",
   "mimetype": "text/x-python",
   "name": "python",
   "nbconvert_exporter": "python",
   "pygments_lexer": "ipython3",
   "version": "3.9.7"
  }
 },
 "nbformat": 4,
 "nbformat_minor": 5
}
