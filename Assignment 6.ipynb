{
 "cells": [
  {
   "cell_type": "code",
   "execution_count": null,
   "id": "dc77f82f",
   "metadata": {},
   "outputs": [],
   "source": [
    "# Assignment 6 "
   ]
  },
  {
   "cell_type": "code",
   "execution_count": null,
   "id": "4ba467e9",
   "metadata": {},
   "outputs": [],
   "source": [
    "1. Write a Python Program to Display Fibonacci Sequence Using Recursion?"
   ]
  },
  {
   "cell_type": "code",
   "execution_count": 32,
   "id": "e2891543",
   "metadata": {},
   "outputs": [
    {
     "name": "stdout",
     "output_type": "stream",
     "text": [
      "How many terms? 2\n",
      "Fibonacci sequence:\n",
      "0\n",
      "1\n"
     ]
    }
   ],
   "source": [
    "def recur_fibo(n):\n",
    "    if n <= 1:\n",
    "        return n\n",
    "    else:\n",
    "        return(recur__fibo(n-1)+recur_fibo(n-2))\n",
    "nterms=int(input(\"How many terms? \"))\n",
    "if nterms<=0:\n",
    "    print(\"please enter a positive integer\")\n",
    "else:\n",
    "    print(\"Fibonacci sequence:\")\n",
    "    for i in range(nterms):\n",
    "        print(recur_fibo(i))"
   ]
  },
  {
   "cell_type": "code",
   "execution_count": null,
   "id": "4a3171df",
   "metadata": {},
   "outputs": [],
   "source": [
    "2.\tWrite a Python Program to Find Factorial of Number Using Recursion?"
   ]
  },
  {
   "cell_type": "code",
   "execution_count": 34,
   "id": "a20c55ca",
   "metadata": {},
   "outputs": [
    {
     "name": "stdout",
     "output_type": "stream",
     "text": [
      "number :  8\n",
      "Factorial :  40320\n"
     ]
    }
   ],
   "source": [
    "def factorial(n):\n",
    "    if (n==1 or n==0):\n",
    "        return 1\n",
    "    else:\n",
    "        return (n * factorial(n -1))\n",
    "    \n",
    "num =8;\n",
    "print(\"number : \",num)\n",
    "print(\"Factorial : \",factorial(num))"
   ]
  },
  {
   "cell_type": "code",
   "execution_count": 36,
   "id": "cb5bcc07",
   "metadata": {},
   "outputs": [
    {
     "name": "stdout",
     "output_type": "stream",
     "text": [
      "The factorial of 8 is 40320\n"
     ]
    }
   ],
   "source": [
    "def recur_factorial(n):\n",
    "    if n == 1 :\n",
    "        return n\n",
    "    else:\n",
    "        return (n*recur_factorial(n -1))\n",
    "    \n",
    "num =8;\n",
    "if num < 0:\n",
    "    print(\"sorry factorial does not exist for negative numbers\")\n",
    "elif num == 0:\n",
    "    print(\"The factorial of 0 is 1\")\n",
    "else:\n",
    "    print(\"The factorial of\", num, \"is\", recur_factorial(num))"
   ]
  },
  {
   "cell_type": "code",
   "execution_count": null,
   "id": "18e8f562",
   "metadata": {},
   "outputs": [],
   "source": [
    "3.\tWrite a Python Program to calculate your Body Mass Index?"
   ]
  },
  {
   "cell_type": "code",
   "execution_count": 39,
   "id": "08353883",
   "metadata": {},
   "outputs": [
    {
     "name": "stdout",
     "output_type": "stream",
     "text": [
      "The BMI is 21.65302938254221 so Healthy\n"
     ]
    }
   ],
   "source": [
    "def BMI(height,weight):\n",
    "    bmi = weight/(height**2)\n",
    "    return bmi\n",
    "height = 1.798\n",
    "weight = 70\n",
    "bmi = BMI(height , weight)\n",
    "print(\"The BMI is\", format(bmi), \"so\" , end=' ')\n",
    "if (bmi < 18.5):\n",
    "    print(\"underweight\")\n",
    "elif (bmi >= 18.5 and bmi < 24.9):\n",
    "    print(\"Healthy\")\n",
    "elif (bmi >= 24.9 and bmi < 30):\n",
    "    print(\"overweight\")\n",
    "elif ( bmi >= 30):\n",
    "    print(\"suffering from obesity\")"
   ]
  },
  {
   "cell_type": "code",
   "execution_count": null,
   "id": "4e4f25f8",
   "metadata": {},
   "outputs": [],
   "source": [
    "4.\tWrite a Python Program to calculate the natural logarithm of any number?"
   ]
  },
  {
   "cell_type": "code",
   "execution_count": 40,
   "id": "c8d074f3",
   "metadata": {},
   "outputs": [
    {
     "name": "stdout",
     "output_type": "stream",
     "text": [
      "enter the number: 5\n",
      "The value is: 1.6094379124341003\n"
     ]
    }
   ],
   "source": [
    "import math\n",
    "number = int(input(\"enter the number: \"))\n",
    "ans = math.log(number)\n",
    "print(\"The value is:\" , ans)"
   ]
  },
  {
   "cell_type": "code",
   "execution_count": null,
   "id": "b8d014d5",
   "metadata": {},
   "outputs": [],
   "source": [
    "5.\tWrite a Python Program for cube sum of first n natural numbers?"
   ]
  },
  {
   "cell_type": "code",
   "execution_count": 41,
   "id": "cd6f53aa",
   "metadata": {},
   "outputs": [
    {
     "name": "stdout",
     "output_type": "stream",
     "text": [
      "225\n"
     ]
    }
   ],
   "source": [
    "def sumofseries(n):\n",
    "    sum = 0\n",
    "    for i in range(1, n+1):\n",
    "        sum +=i*i*i\n",
    "    return sum\n",
    "\n",
    "n = 5\n",
    "print(sumofseries(n))"
   ]
  },
  {
   "cell_type": "code",
   "execution_count": null,
   "id": "7d30f44f",
   "metadata": {},
   "outputs": [],
   "source": []
  }
 ],
 "metadata": {
  "kernelspec": {
   "display_name": "Python 3 (ipykernel)",
   "language": "python",
   "name": "python3"
  },
  "language_info": {
   "codemirror_mode": {
    "name": "ipython",
    "version": 3
   },
   "file_extension": ".py",
   "mimetype": "text/x-python",
   "name": "python",
   "nbconvert_exporter": "python",
   "pygments_lexer": "ipython3",
   "version": "3.9.7"
  }
 },
 "nbformat": 4,
 "nbformat_minor": 5
}
