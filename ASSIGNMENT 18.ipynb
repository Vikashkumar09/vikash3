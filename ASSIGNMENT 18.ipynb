{
 "cells": [
  {
   "cell_type": "code",
   "execution_count": null,
   "id": "239eadaf",
   "metadata": {},
   "outputs": [],
   "source": [
    "# ASSIGNMENT 18"
   ]
  },
  {
   "cell_type": "code",
   "execution_count": null,
   "id": "6efbc651",
   "metadata": {},
   "outputs": [],
   "source": [
    "1. Create a function that takes a list of non-negative integers and strings and return a new list without the strings."
   ]
  },
  {
   "cell_type": "code",
   "execution_count": 1,
   "id": "0e5b52eb",
   "metadata": {},
   "outputs": [
    {
     "name": "stdout",
     "output_type": "stream",
     "text": [
      "[1, 2]\n"
     ]
    }
   ],
   "source": [
    "l = [1,2,'a','b']\n",
    "\n",
    "def filter_list(l):\n",
    "    new_list = []\n",
    "    for x in l:\n",
    "        if type(x) == int:\n",
    "            new_list.append(x)\n",
    "    return new_list\n",
    "\n",
    "print(filter_list(l))"
   ]
  },
  {
   "cell_type": "code",
   "execution_count": null,
   "id": "0a4cc905",
   "metadata": {},
   "outputs": [],
   "source": [
    "2. The \"Reverser\" takes a string as input and returns that string in reverse order, with the opposite case."
   ]
  },
  {
   "cell_type": "code",
   "execution_count": 47,
   "id": "f042fb0f",
   "metadata": {},
   "outputs": [
    {
     "name": "stdout",
     "output_type": "stream",
     "text": [
      "HSAKIV SI EMAN YM olleh"
     ]
    }
   ],
   "source": [
    "str1=\"HELLO my name is vikash\"\n",
    "for i in range(-1,-(n+1),-1):\n",
    "    print(str1[i].swapcase(),end='')"
   ]
  },
  {
   "cell_type": "code",
   "execution_count": null,
   "id": "37ebb6ed",
   "metadata": {},
   "outputs": [],
   "source": [
    "3. Create variables first, middle and last from the given list using destructuring assignment (check the Resources tab for some examples), where:\n",
    "first  ➞ 1\n",
    "\n",
    "middle ➞ [2, 3, 4, 5]\n",
    "\n",
    "last ➞ 6"
   ]
  },
  {
   "cell_type": "code",
   "execution_count": 49,
   "id": "ed03b542",
   "metadata": {},
   "outputs": [
    {
     "name": "stdout",
     "output_type": "stream",
     "text": [
      "1 [2, 3, 4, 5] 6\n"
     ]
    }
   ],
   "source": [
    "a, *mid, b = [1, 2, 3, 4, 5, 6]\n",
    "print(a, mid, b)"
   ]
  },
  {
   "cell_type": "code",
   "execution_count": null,
   "id": "e4f2977a",
   "metadata": {},
   "outputs": [],
   "source": [
    "4. Write a function that calculates the factorial of a number recursively."
   ]
  },
  {
   "cell_type": "code",
   "execution_count": 50,
   "id": "eab6b08c",
   "metadata": {},
   "outputs": [
    {
     "name": "stdout",
     "output_type": "stream",
     "text": [
      "Factorial of 5 is 120\n"
     ]
    }
   ],
   "source": [
    "def factorial(n):\n",
    "      \n",
    "    if n == 0:\n",
    "        return 1\n",
    "     \n",
    "    return n * factorial(n-1)\n",
    "  \n",
    "# Driver Code\n",
    "num = 5;\n",
    "print(\"Factorial of\", num, \"is\",\n",
    "factorial(num))"
   ]
  },
  {
   "cell_type": "code",
   "execution_count": 51,
   "id": "a06c4b30",
   "metadata": {},
   "outputs": [
    {
     "name": "stdout",
     "output_type": "stream",
     "text": [
      "The factorial of 7 is 5040\n"
     ]
    }
   ],
   "source": [
    "def recur_factorial(n):\n",
    "   if n == 1:\n",
    "       return n\n",
    "   else:\n",
    "       return n*recur_factorial(n-1)\n",
    "\n",
    "num = 7\n",
    "\n",
    "# check if the number is negative\n",
    "if num < 0:\n",
    "   print(\"Sorry, factorial does not exist for negative numbers\")\n",
    "elif num == 0:\n",
    "   print(\"The factorial of 0 is 1\")\n",
    "else:\n",
    "   print(\"The factorial of\", num, \"is\", recur_factorial(num))"
   ]
  },
  {
   "cell_type": "code",
   "execution_count": null,
   "id": "002f7e4c",
   "metadata": {},
   "outputs": [],
   "source": [
    "5. Write a function that moves all elements of one type to the end of the list."
   ]
  },
  {
   "cell_type": "code",
   "execution_count": 52,
   "id": "7bc12268",
   "metadata": {},
   "outputs": [
    {
     "name": "stdout",
     "output_type": "stream",
     "text": [
      "The original list is : ['3', '5', '7', '9', '11']\n",
      "The modified element moved list is : ['5', '7', '9', '11', '3']\n"
     ]
    }
   ],
   "source": [
    "test_list = ['3', '5', '7', '9', '11']\n",
    "  \n",
    "# printing original list \n",
    "print (\"The original list is : \" + str(test_list))\n",
    "  \n",
    "# using sort() + key = (__eq__)\n",
    "# moving element to end \n",
    "test_list.sort(key = '3'.__eq__)\n",
    "  \n",
    "# printing result\n",
    "print (\"The modified element moved list is : \" + str(test_list))"
   ]
  }
 ],
 "metadata": {
  "kernelspec": {
   "display_name": "Python 3 (ipykernel)",
   "language": "python",
   "name": "python3"
  },
  "language_info": {
   "codemirror_mode": {
    "name": "ipython",
    "version": 3
   },
   "file_extension": ".py",
   "mimetype": "text/x-python",
   "name": "python",
   "nbconvert_exporter": "python",
   "pygments_lexer": "ipython3",
   "version": "3.9.7"
  }
 },
 "nbformat": 4,
 "nbformat_minor": 5
}
