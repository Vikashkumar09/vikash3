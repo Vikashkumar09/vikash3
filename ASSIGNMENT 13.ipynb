{
 "cells": [
  {
   "cell_type": "code",
   "execution_count": null,
   "id": "6fd15fe0",
   "metadata": {},
   "outputs": [],
   "source": [
    "# ASSIGNMENT 13"
   ]
  },
  {
   "cell_type": "code",
   "execution_count": null,
   "id": "2e148b06",
   "metadata": {},
   "outputs": [],
   "source": [
    "1. Write a program that calculates and prints the value according to the given formula:\n",
    "\n",
    "Q = Square root of [(2 * C * D)/H]\n",
    "\n",
    "Following are the fixed values of C and H:\n",
    "\n",
    "C is 50. H is 30.\n",
    "\n",
    "D is the variable whose values should be input to your program in a comma-separated sequence."
   ]
  },
  {
   "cell_type": "code",
   "execution_count": 2,
   "id": "1415c991",
   "metadata": {},
   "outputs": [
    {
     "name": "stdout",
     "output_type": "stream",
     "text": [
      "Provide D: 100, 150, 180\n",
      "[18, 22, 24]\n"
     ]
    }
   ],
   "source": [
    "import math\n",
    "\n",
    "numbers = input(\"Provide D: \")\n",
    "numbers = numbers.split(',')\n",
    "\n",
    "result_list = []\n",
    "for D in numbers:\n",
    "    Q = round(math.sqrt(2 * 50 * int(D) / 30))\n",
    "    result_list.append(Q)\n",
    "\n",
    "print(result_list)"
   ]
  },
  {
   "cell_type": "code",
   "execution_count": null,
   "id": "0a73a898",
   "metadata": {},
   "outputs": [],
   "source": [
    "2. Write a program which takes 2 digits, X,Y as input and generates a 2-dimensional array. The element value in the i-th row and j-th column of the array should be i*j.\n",
    "\n",
    "Note: i=0,1.., X-1; j=0,1,¡¬Y-1.\n"
   ]
  },
  {
   "cell_type": "code",
   "execution_count": 3,
   "id": "a56c1e80",
   "metadata": {},
   "outputs": [
    {
     "name": "stdout",
     "output_type": "stream",
     "text": [
      "Input number of rows: 3\n",
      "Input number of columns: 4\n",
      "[[0, 0, 0, 0], [0, 1, 2, 3], [0, 2, 4, 6]]\n"
     ]
    }
   ],
   "source": [
    "row_num = int(input(\"Input number of rows: \"))\n",
    "col_num = int(input(\"Input number of columns: \"))\n",
    "multi_list = [[0 for col in range(col_num)] for row in range(row_num)]\n",
    "\n",
    "for row in range(row_num):\n",
    "    for col in range(col_num):\n",
    "        multi_list[row][col]= row*col\n",
    "\n",
    "print(multi_list)"
   ]
  },
  {
   "cell_type": "code",
   "execution_count": null,
   "id": "baa1bc61",
   "metadata": {},
   "outputs": [],
   "source": [
    "3. Write a program that accepts a comma separated sequence of words as input and prints the words in a comma-separated sequence after sorting them alphabetically."
   ]
  },
  {
   "cell_type": "code",
   "execution_count": 4,
   "id": "75de2920",
   "metadata": {},
   "outputs": [
    {
     "name": "stdout",
     "output_type": "stream",
     "text": [
      "Input words: Ram, john, arun, priti\n",
      " arun,  john,  priti, Ram\n"
     ]
    }
   ],
   "source": [
    "phrase = input(\"Input words: \")\n",
    "\n",
    "phrase_list = phrase.split(\",\")\n",
    "phrase_list.sort()\n",
    "print((', ').join(phrase_list))"
   ]
  },
  {
   "cell_type": "code",
   "execution_count": null,
   "id": "53ee4df4",
   "metadata": {},
   "outputs": [],
   "source": [
    "4. Write a program that accepts a sequence of whitespace separated words as input and prints the words after removing all duplicate words and sorting them alphanumerically."
   ]
  },
  {
   "cell_type": "code",
   "execution_count": 5,
   "id": "ee6d408a",
   "metadata": {},
   "outputs": [
    {
     "name": "stdout",
     "output_type": "stream",
     "text": [
      "Type in: we all are going to trip today\n",
      "all are going to today trip we\n"
     ]
    }
   ],
   "source": [
    "phrase = input(\"Type in: \")\n",
    "phrase_splited = phrase.split(' ')\n",
    "\n",
    "word_list = []\n",
    "for i in phrase_splited:\n",
    "    if i not in word_list:\n",
    "        word_list.append(i)\n",
    "    else:\n",
    "        continue\n",
    "word_list.sort()\n",
    "print((' ').join(word_list))"
   ]
  },
  {
   "cell_type": "code",
   "execution_count": null,
   "id": "c684d8e7",
   "metadata": {},
   "outputs": [],
   "source": [
    "5. Write a program that accepts a sentence and calculate the number of letters and digits."
   ]
  },
  {
   "cell_type": "code",
   "execution_count": 7,
   "id": "9bc91ce0",
   "metadata": {},
   "outputs": [
    {
     "name": "stdout",
     "output_type": "stream",
     "text": [
      "Total letters found :- 39\n",
      "Total digits found :- 2\n"
     ]
    }
   ],
   "source": [
    "all_digits = ['0', '1', '2', '3', '4', '5', '6', '7', '8', '9']\n",
    " \n",
    "all_letters = ['a', 'b', 'c', 'd', 'e', 'f', 'g', 'h', 'i', 'j', 'k', 'l',\n",
    "               'm', 'n', 'o', 'p', 'q', 'r', 's', 't', 'u', 'v', 'w', 'x', 'y', 'z']\n",
    "\n",
    "string = \"there are 4 cities and 6 villages in this district\"\n",
    " \n",
    "# initialized value\n",
    "total_digits = 0\n",
    "total_letters = 0\n",
    " \n",
    "# iterate through all characters\n",
    "for s in string:\n",
    " \n",
    "    # if character found in all_digits then increment total_digits by one\n",
    "    if s in all_digits:\n",
    "        total_digits += 1\n",
    " \n",
    "    # if character found in all_letters then increment total_letters by one\n",
    "    elif s in all_letters:\n",
    "        total_letters += 1\n",
    " \n",
    "print(\"Total letters found :-\", total_letters)\n",
    "print(\"Total digits found :-\", total_digits)"
   ]
  },
  {
   "cell_type": "code",
   "execution_count": 8,
   "id": "ecb04f8e",
   "metadata": {},
   "outputs": [
    {
     "name": "stdout",
     "output_type": "stream",
     "text": [
      "Type in: \"there are 4 cities and 6 villages in this district\"\n",
      "Letters: 39\n",
      "Digits: 2\n"
     ]
    }
   ],
   "source": [
    "phrase = input(\"Type in: \")\n",
    "phrase = list(phrase)\n",
    "\n",
    "l, d = 0, 0\n",
    "for i in phrase:\n",
    "    if i.isalpha():\n",
    "        l = l + 1\n",
    "    if i.isdigit():\n",
    "        d = d + 1\n",
    "    else:\n",
    "        pass\n",
    "\n",
    "print(\"Letters:\", l)\n",
    "print(\"Digits:\", d)"
   ]
  },
  {
   "cell_type": "code",
   "execution_count": null,
   "id": "ca5e45a1",
   "metadata": {},
   "outputs": [],
   "source": [
    "6. A website requires the users to input username and password to register. Write a program to check the validity of password input by users."
   ]
  },
  {
   "cell_type": "code",
   "execution_count": 9,
   "id": "8a1aeadf",
   "metadata": {},
   "outputs": [
    {
     "name": "stdout",
     "output_type": "stream",
     "text": [
      "Type in: ABd1234@1,a F1#,2w3E*,2We3345\n",
      "ABd1234@1\n"
     ]
    }
   ],
   "source": [
    "import re\n",
    "\n",
    "passwords = input(\"Type in: \")\n",
    "passwords = passwords.split(\",\")\n",
    "\n",
    "accepted_pass = []\n",
    "for i in passwords:\n",
    "    \n",
    "    if len(i) < 6 or len(i) > 12:\n",
    "        continue\n",
    "\n",
    "    elif not re.search(\"([a-z])+\", i):\n",
    "        continue\n",
    "\n",
    "    elif not re.search(\"([A-Z])+\", i):\n",
    "        continue\n",
    "\n",
    "    elif not re.search(\"([0-9])+\", i):\n",
    "        continue\n",
    "\n",
    "    elif not re.search(\"([!@$%^&])+\", i):\n",
    "        continue\n",
    "\n",
    "    else:\n",
    "        accepted_pass.append(i)\n",
    "\n",
    "print((\" \").join(accepted_pass))"
   ]
  }
 ],
 "metadata": {
  "kernelspec": {
   "display_name": "Python 3 (ipykernel)",
   "language": "python",
   "name": "python3"
  },
  "language_info": {
   "codemirror_mode": {
    "name": "ipython",
    "version": 3
   },
   "file_extension": ".py",
   "mimetype": "text/x-python",
   "name": "python",
   "nbconvert_exporter": "python",
   "pygments_lexer": "ipython3",
   "version": "3.9.7"
  }
 },
 "nbformat": 4,
 "nbformat_minor": 5
}
