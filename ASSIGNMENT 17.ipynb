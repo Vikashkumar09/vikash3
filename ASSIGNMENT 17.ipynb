{
 "cells": [
  {
   "cell_type": "code",
   "execution_count": null,
   "id": "b3257e3c",
   "metadata": {},
   "outputs": [],
   "source": [
    "# ASSIGNMENT 17"
   ]
  },
  {
   "cell_type": "code",
   "execution_count": null,
   "id": "066c6382",
   "metadata": {},
   "outputs": [],
   "source": [
    "1. Create a function that takes three arguments a, b, c and returns the sum of the numbers that are evenly divided by c from the range a, b inclusive."
   ]
  },
  {
   "cell_type": "code",
   "execution_count": 17,
   "id": "e0a3991f",
   "metadata": {},
   "outputs": [
    {
     "name": "stdout",
     "output_type": "stream",
     "text": [
      "42\n"
     ]
    }
   ],
   "source": [
    "def sumDivisibles(A, B, M):\n",
    " \n",
    "    # Variable to store the sum\n",
    "    sum = 0\n",
    " \n",
    "    # Running a loop from A to B and check\n",
    "    # if a number is divisible by i.\n",
    "    for i in range(A, B + 1):\n",
    " \n",
    "        # If the number is divisible,\n",
    "        # then add it to sum\n",
    "        if (i % M == 0):\n",
    "            sum += i\n",
    " \n",
    "    # Return the sum\n",
    "    return sum\n",
    " \n",
    "# Driver code\n",
    "if __name__==\"__main__\":\n",
    "     \n",
    "    # A and B define the range\n",
    "    # M is the dividend\n",
    "    A = 6\n",
    "    B = 15\n",
    "    M = 3\n",
    " \n",
    "    # Printing the result\n",
    "    print(sumDivisibles(A, B, M))"
   ]
  },
  {
   "cell_type": "code",
   "execution_count": null,
   "id": "f2429519",
   "metadata": {},
   "outputs": [],
   "source": [
    "2. Create a function that returns True if a given inequality expression is correct and False otherwise."
   ]
  },
  {
   "cell_type": "code",
   "execution_count": 8,
   "id": "0b81bf0f",
   "metadata": {},
   "outputs": [
    {
     "name": "stdout",
     "output_type": "stream",
     "text": [
      "True\n",
      "False\n",
      "True\n"
     ]
    }
   ],
   "source": [
    "def check(s):\n",
    "    regex=eval(s)\n",
    "    if regex:\n",
    "        return True\n",
    "    else:\n",
    "        return False \n",
    "print(check(\"2 < 7 < 15\"))\n",
    "print(check(\"30 > 45 > 21 > 9\"))\n",
    "print(check(\"4 < 7 < 8< 12 > 2\"))"
   ]
  },
  {
   "cell_type": "code",
   "execution_count": null,
   "id": "6db09fc3",
   "metadata": {},
   "outputs": [],
   "source": [
    "3. Create a function that replaces all the vowels in a string with a specified character."
   ]
  },
  {
   "cell_type": "code",
   "execution_count": 10,
   "id": "e2d7ba32",
   "metadata": {},
   "outputs": [
    {
     "name": "stdout",
     "output_type": "stream",
     "text": [
      "Given String: my name is vikash\n",
      "Given Specified Character: #\n",
      "After replacing vowels with the specified character: my n#m# #s v#k#sh\n"
     ]
    }
   ],
   "source": [
    "def replaceVowelsWithK(test_str, K):\n",
    " \n",
    "    # creating list of vowels\n",
    "    vowels_list = ['A', 'E', 'I', 'O', 'U', 'a', 'e', 'i', 'o', 'u']\n",
    " \n",
    "    # creating empty list\n",
    "    new_string = []\n",
    " \n",
    "    # converting the given string to list\n",
    "    string_list = list(test_str)\n",
    " \n",
    "    # running 1st iteration for\n",
    "    # comparing all the\n",
    "    # characters of string with\n",
    "    # the vowel characters\n",
    "    for char in string_list:\n",
    " \n",
    "        # running 2nd iteration for\n",
    "        # comparing all the characters\n",
    "        # of vowels with the string character\n",
    "        for char2 in vowels_list:\n",
    " \n",
    "            # comparing string character\n",
    "            # and vowel character\n",
    "            if char == char2:\n",
    " \n",
    "                # if condition is true then adding\n",
    "                # the specific character entered\n",
    "                # by the user in the new list\n",
    "                new_string.append(K)\n",
    "                break\n",
    " \n",
    "        # else adding the character\n",
    "        else:\n",
    "            new_string.append(char)\n",
    " \n",
    "    # return the converted list into string\n",
    "    return(''.join(new_string))\n",
    " \n",
    "   \n",
    " \n",
    "# Driver Code\n",
    "# input string\n",
    "input_str = \"my name is vikash\"\n",
    " \n",
    "# specified character\n",
    "K = \"#\"\n",
    " \n",
    "# printing input\n",
    "print(\"Given String:\", input_str)\n",
    "print(\"Given Specified Character:\", K)\n",
    " \n",
    "# printing output\n",
    "print(\"After replacing vowels with the specified character:\",\n",
    "      replaceVowelsWithK(input_str, K))"
   ]
  },
  {
   "cell_type": "code",
   "execution_count": null,
   "id": "28fd2589",
   "metadata": {},
   "outputs": [],
   "source": [
    "4. Write a function that calculates the factorial of a number recursively."
   ]
  },
  {
   "cell_type": "code",
   "execution_count": 11,
   "id": "2a6302fb",
   "metadata": {},
   "outputs": [
    {
     "name": "stdout",
     "output_type": "stream",
     "text": [
      "The factorial of 7 is 5040\n"
     ]
    }
   ],
   "source": [
    "def recur_factorial(n):\n",
    "   if n == 1:\n",
    "       return n\n",
    "   else:\n",
    "       return n*recur_factorial(n-1)\n",
    "\n",
    "num = 7\n",
    "\n",
    "# check if the number is negative\n",
    "if num < 0:\n",
    "   print(\"Sorry, factorial does not exist for negative numbers\")\n",
    "elif num == 0:\n",
    "   print(\"The factorial of 0 is 1\")\n",
    "else:\n",
    "   print(\"The factorial of\", num, \"is\", recur_factorial(num))"
   ]
  },
  {
   "cell_type": "code",
   "execution_count": 14,
   "id": "29d1ce88",
   "metadata": {},
   "outputs": [
    {
     "name": "stdout",
     "output_type": "stream",
     "text": [
      "Factorial of 5 is 120\n"
     ]
    }
   ],
   "source": [
    "def factorial(n):\n",
    "      \n",
    "    if n == 0:\n",
    "        return 1\n",
    "     \n",
    "    return n * factorial(n-1)\n",
    "  \n",
    "# Driver Code\n",
    "num = 5;\n",
    "print(\"Factorial of\", num, \"is\",\n",
    "factorial(num))"
   ]
  },
  {
   "cell_type": "code",
   "execution_count": null,
   "id": "4aaa3eab",
   "metadata": {},
   "outputs": [],
   "source": [
    "5. Create a function that computes the hamming distance between two strings."
   ]
  },
  {
   "cell_type": "code",
   "execution_count": 16,
   "id": "c2e4aaac",
   "metadata": {},
   "outputs": [
    {
     "name": "stdout",
     "output_type": "stream",
     "text": [
      "8\n"
     ]
    }
   ],
   "source": [
    "def hammingDist(str1, str2):\n",
    "    i = 0\n",
    "    count = 0\n",
    " \n",
    "    while(i < len(str1)):\n",
    "        if(str1[i] != str2[i]):\n",
    "            count += 1\n",
    "        i += 1\n",
    "    return count\n",
    " \n",
    "# Driver code \n",
    "str1 = \"creativeways\"\n",
    "str2 = \"rcaetiveawsy\"\n",
    " \n",
    "# function call\n",
    "print(hammingDist(str1, str2))"
   ]
  },
  {
   "cell_type": "code",
   "execution_count": null,
   "id": "809d6638",
   "metadata": {},
   "outputs": [],
   "source": []
  }
 ],
 "metadata": {
  "kernelspec": {
   "display_name": "Python 3 (ipykernel)",
   "language": "python",
   "name": "python3"
  },
  "language_info": {
   "codemirror_mode": {
    "name": "ipython",
    "version": 3
   },
   "file_extension": ".py",
   "mimetype": "text/x-python",
   "name": "python",
   "nbconvert_exporter": "python",
   "pygments_lexer": "ipython3",
   "version": "3.9.7"
  }
 },
 "nbformat": 4,
 "nbformat_minor": 5
}
